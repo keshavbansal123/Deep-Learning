{
 "cells": [
  {
   "cell_type": "markdown",
   "id": "8b61d378",
   "metadata": {
    "papermill": {
     "duration": 0.004805,
     "end_time": "2025-07-04T11:59:51.907643",
     "exception": false,
     "start_time": "2025-07-04T11:59:51.902838",
     "status": "completed"
    },
    "tags": []
   },
   "source": [
    "![CNN](https://miro.medium.com/v2/resize:fit:1400/1*Q6yA_1B_vsdGWAAwB8Z7rA.png)\n",
    "\n",
    "# 🧠👟 Image Recognition with CNNs — Classifying Fashion Like a Pro!\n",
    "\n",
    "> **Can a machine learn to recognize T-shirts, sneakers, and coats — just by looking at pixels?**  \n",
    "Welcome to your beginner-friendly introduction to **Convolutional Neural Networks (CNNs)** — the powerhouse behind modern computer vision.  \n",
    "In this notebook, we’ll apply CNNs step-by-step using the **Fashion-MNIST dataset**, a cleaner and more challenging upgrade to the classic MNIST digits dataset.\n",
    "\n",
    "Whether you're a student taking your first steps in deep learning, a Kaggle explorer, or a curious learner — this notebook is designed to help you **build, train, evaluate, and visualize** a CNN from scratch using **TensorFlow & Keras**."
   ]
  },
  {
   "cell_type": "markdown",
   "id": "71f0ae16",
   "metadata": {
    "papermill": {
     "duration": 0.003571,
     "end_time": "2025-07-04T11:59:51.915234",
     "exception": false,
     "start_time": "2025-07-04T11:59:51.911663",
     "status": "completed"
    },
    "tags": []
   },
   "source": [
    "---\n",
    "# 🧑‍💻 **About the Author**\n",
    "\n",
    "Hi, I’m **Asadullah Shehbaz** — an aspiring Data Scientist passionate about uncovering insights through data.  \n",
    "I'm on a journey to master machine learning, analytical thinking, and real-world problem solving, one project at a time.\n",
    "\n",
    "> *“I believe community drives innovation — by learning together, we grow faster, think deeper, and build stronger solutions.”*\n",
    "\n",
    "Feel free to connect, share feedback, or explore my other notebooks below! 👇\n",
    "\n",
    "---\n",
    "\n",
    "### 🌐 **Contact & Profiles**\n",
    "\n",
    "| 📛 Name | 📧 Email | 🔗 LinkedIn | 💻 GitHub | 🧠 Kaggle |\n",
    "|--------|----------|-------------|------------|-----------|\n",
    "| **Asadullah Shehbaz** | asadullahcreative@gmail.com | [![LinkedIn Badge](https://img.shields.io/badge/-LinkedIn-0A66C2?style=for-the-badge&logo=linkedin&logoColor=white)](https://www.linkedin.com/in/asadullah-shehbaz-18172a2bb/) | [![GitHub Badge](https://img.shields.io/badge/-GitHub-181717?style=for-the-badge&logo=github&logoColor=white)](https://github.com/AsadullahShehbaz) | [![Kaggle Badge](https://img.shields.io/badge/-Kaggle-20BEFF?style=for-the-badge&logo=kaggle&logoColor=white)](https://www.kaggle.com/asadullahcreative) |\n",
    "\n",
    "---\n"
   ]
  },
  {
   "cell_type": "markdown",
   "id": "cd7e8834",
   "metadata": {
    "papermill": {
     "duration": 0.003462,
     "end_time": "2025-07-04T11:59:51.922552",
     "exception": false,
     "start_time": "2025-07-04T11:59:51.919090",
     "status": "completed"
    },
    "tags": []
   },
   "source": [
    "\n",
    "---\n",
    "# 🧰 What You’ll Learn\n",
    "\n",
    "- What CNNs are and how they mimic human vision 🧠👀  \n",
    "- How to preprocess image data for deep learning  \n",
    "- How to build a CNN model using **Keras Sequential API**  \n",
    "- How to visualize model performance and predictions  \n",
    "- Optional: How to *peek inside* the network to see what it’s learning!\n",
    "\n",
    "---\n",
    "\n",
    "## 📦 Dataset: Fashion-MNIST\n",
    "\n",
    "- 70,000 grayscale images (28×28 pixels)  \n",
    "- 10 fashion categories (e.g., shirt, sneaker, bag)  \n",
    "- Built-in access via `tensorflow.keras.datasets` (no downloads needed!)\n",
    "\n",
    "---\n",
    "\n",
    "> 🧠 **Fun Fact**: CNNs are used in facial recognition, autonomous vehicles, medical image diagnosis, and even in your phone’s camera app!\n",
    "\n",
    "---\n",
    "\n",
    "## 🚀 Let’s Get Started\n",
    "\n",
    "> 🎯 *By the end of this notebook, you’ll not only understand CNNs — you’ll have built one yourself that can classify fashion items with over 85% accuracy.*\n"
   ]
  },
  {
   "cell_type": "markdown",
   "id": "f93c9e26",
   "metadata": {
    "papermill": {
     "duration": 0.003582,
     "end_time": "2025-07-04T11:59:51.930020",
     "exception": false,
     "start_time": "2025-07-04T11:59:51.926438",
     "status": "completed"
    },
    "tags": []
   },
   "source": [
    "# 📦 1. Load the Dataset & Libraries"
   ]
  },
  {
   "cell_type": "code",
   "execution_count": 1,
   "id": "d0aee219",
   "metadata": {
    "execution": {
     "iopub.execute_input": "2025-07-04T11:59:51.938916Z",
     "iopub.status.busy": "2025-07-04T11:59:51.938602Z",
     "iopub.status.idle": "2025-07-04T12:00:12.759530Z",
     "shell.execute_reply": "2025-07-04T12:00:12.758485Z"
    },
    "papermill": {
     "duration": 20.827474,
     "end_time": "2025-07-04T12:00:12.761341",
     "exception": false,
     "start_time": "2025-07-04T11:59:51.933867",
     "status": "completed"
    },
    "tags": []
   },
   "outputs": [
    {
     "name": "stderr",
     "output_type": "stream",
     "text": [
      "2025-07-04 11:59:54.193377: E external/local_xla/xla/stream_executor/cuda/cuda_fft.cc:477] Unable to register cuFFT factory: Attempting to register factory for plugin cuFFT when one has already been registered\n",
      "WARNING: All log messages before absl::InitializeLog() is called are written to STDERR\n",
      "E0000 00:00:1751630394.451321      13 cuda_dnn.cc:8310] Unable to register cuDNN factory: Attempting to register factory for plugin cuDNN when one has already been registered\n",
      "E0000 00:00:1751630394.530539      13 cuda_blas.cc:1418] Unable to register cuBLAS factory: Attempting to register factory for plugin cuBLAS when one has already been registered\n"
     ]
    }
   ],
   "source": [
    "# Basic imports\n",
    "# ----------------------------\n",
    "# numpy: For numerical operations on arrays\n",
    "import numpy as np\n",
    "# matplotlib: For data visualization and plotting\n",
    "import matplotlib.pyplot as plt\n",
    "\n",
    "# Importing from Keras (TensorFlow's high-level API)\n",
    "# ----------------------------\n",
    "# fashion_mnist: The dataset we'll use (clothing images)\n",
    "from tensorflow.keras.datasets import fashion_mnist\n",
    "# to_categorical: Converts labels to one-hot encoding format\n",
    "from tensorflow.keras.utils import to_categorical\n",
    "# Sequential: The type of model we'll build (linear stack of layers)\n",
    "from tensorflow.keras.models import Sequential\n",
    "\n",
    "# Keras layer types we'll use:\n",
    "# ----------------------------\n",
    "# Conv2D: 2D convolution layer (the core of CNNs)\n",
    "# MaxPooling2D: Reduces spatial dimensions (downsamples)\n",
    "# Flatten: Converts 2D features to 1D for dense layers\n",
    "# Dense: Regular fully-connected neural network layer\n",
    "# Dropout: Helps prevent overfitting by randomly ignoring neurons\n",
    "from tensorflow.keras.layers import Conv2D, MaxPooling2D, Flatten, Dense, Dropout\n",
    "\n",
    "# EarlyStopping: Stops training when model stops improving\n",
    "from tensorflow.keras.callbacks import EarlyStopping"
   ]
  },
  {
   "cell_type": "markdown",
   "id": "d83bc485",
   "metadata": {
    "papermill": {
     "duration": 0.003752,
     "end_time": "2025-07-04T12:00:12.769466",
     "exception": false,
     "start_time": "2025-07-04T12:00:12.765714",
     "status": "completed"
    },
    "tags": []
   },
   "source": [
    "# 🧵 About Fashion-MNIST Dataset\n",
    "\n",
    "### What is Fashion-MNIST?\n",
    "\n",
    "Fashion-MNIST is a popular **benchmark dataset** for machine learning, designed as a more challenging alternative to the classic MNIST digit dataset. It contains:\n",
    "\n",
    "- **70,000 grayscale images** (28×28 pixels each)\n",
    "- **10 categories** of clothing/accessories\n",
    "- **Pre-split** into:\n",
    "  - 60,000 training images\n",
    "  - 10,000 test images\n",
    "\n",
    "> 🌟 **Fun Fact**: Each image is a product from Zalando's e-commerce catalog!\n",
    "\n",
    "---\n",
    "\n",
    "### Class Labels (0-9)\n",
    "\n",
    "| Label | Category      | Example       | Label | Category     | Example       |\n",
    "|-------|---------------|---------------|-------|--------------|---------------|\n",
    "| 0     | T-shirt/top   | 👕            | 5     | Sandal       | 👡            |\n",
    "| 1     | Trouser       | 👖            | 6     | Shirt        | 👔            |\n",
    "| 2     | Pullover      | �             | 7     | Sneaker      | 👟            |\n",
    "| 3     | Dress         | 👗            | 8     | Bag          | 👜            |\n",
    "| 4     | Coat          | 🧥            | 9     | Ankle boot   | 👢            |\n",
    "\n",
    "---\n",
    "\n",
    "### Why Use Fashion-MNIST?\n",
    "\n",
    "1. **Beginner-Friendly**  \n",
    "   - Simple 28×28 grayscale format (easier than color images)\n",
    "   - Balanced classes (6,000 examples per category)\n",
    "\n",
    "2. **Good CNN Practice**  \n",
    "   - More complex than digits but manageable for beginners\n",
    "   - Tests if models can learn **textures and shapes**\n",
    "\n",
    "3. **Fast to Train**  \n",
    "   - Small image size = quick model experimentation\n",
    "\n",
    "---\n",
    "\n",
    "\n",
    "### Key Challenges\n",
    "\n",
    "🔍 **Similar-Looking Classes**  \n",
    "   - Shirts vs. T-shirts vs. Pullovers  \n",
    "   - Sneakers vs. Ankle boots  \n",
    "\n",
    "🎯 **Model Must Learn**:  \n",
    "   - Fine details (sleeve length, collar type)  \n",
    "   - Spatial hierarchies (patterns → shapes → objects)  \n",
    "\n",
    "> 💡 We'll tackle these with **Convolutional Neural Networks (CNNs)**!"
   ]
  },
  {
   "cell_type": "code",
   "execution_count": 2,
   "id": "01ecbbe9",
   "metadata": {
    "execution": {
     "iopub.execute_input": "2025-07-04T12:00:12.778809Z",
     "iopub.status.busy": "2025-07-04T12:00:12.778279Z",
     "iopub.status.idle": "2025-07-04T12:00:13.714516Z",
     "shell.execute_reply": "2025-07-04T12:00:13.713501Z"
    },
    "papermill": {
     "duration": 0.942946,
     "end_time": "2025-07-04T12:00:13.716287",
     "exception": false,
     "start_time": "2025-07-04T12:00:12.773341",
     "status": "completed"
    },
    "tags": []
   },
   "outputs": [
    {
     "name": "stdout",
     "output_type": "stream",
     "text": [
      "Downloading data from https://storage.googleapis.com/tensorflow/tf-keras-datasets/train-labels-idx1-ubyte.gz\n",
      "\u001b[1m29515/29515\u001b[0m \u001b[32m━━━━━━━━━━━━━━━━━━━━\u001b[0m\u001b[37m\u001b[0m \u001b[1m0s\u001b[0m 0us/step\n",
      "Downloading data from https://storage.googleapis.com/tensorflow/tf-keras-datasets/train-images-idx3-ubyte.gz\n",
      "\u001b[1m26421880/26421880\u001b[0m \u001b[32m━━━━━━━━━━━━━━━━━━━━\u001b[0m\u001b[37m\u001b[0m \u001b[1m0s\u001b[0m 0us/step\n",
      "Downloading data from https://storage.googleapis.com/tensorflow/tf-keras-datasets/t10k-labels-idx1-ubyte.gz\n",
      "\u001b[1m5148/5148\u001b[0m \u001b[32m━━━━━━━━━━━━━━━━━━━━\u001b[0m\u001b[37m\u001b[0m \u001b[1m0s\u001b[0m 0us/step\n",
      "Downloading data from https://storage.googleapis.com/tensorflow/tf-keras-datasets/t10k-images-idx3-ubyte.gz\n",
      "\u001b[1m4422102/4422102\u001b[0m \u001b[32m━━━━━━━━━━━━━━━━━━━━\u001b[0m\u001b[37m\u001b[0m \u001b[1m0s\u001b[0m 0us/step\n",
      "Training data shape: (60000, 28, 28)\n",
      "Training labels shape: (60000,)\n",
      "Test data shape: (10000, 28, 28)\n",
      "Test labels shape: (10000,)\n"
     ]
    }
   ],
   "source": [
    "(x_train, y_train), (x_test, y_test) = fashion_mnist.load_data()\n",
    "\n",
    "# Print shapes of the loaded data\n",
    "print(f\"Training data shape: {x_train.shape}\")  # Should show (60000, 28, 28)\n",
    "print(f\"Training labels shape: {y_train.shape}\")  # Should show (60000,)\n",
    "print(f\"Test data shape: {x_test.shape}\")  # Should show (10000, 28, 28)\n",
    "print(f\"Test labels shape: {y_test.shape}\")  # Should show (10000,)"
   ]
  },
  {
   "cell_type": "markdown",
   "id": "4a9a9265",
   "metadata": {
    "papermill": {
     "duration": 0.004776,
     "end_time": "2025-07-04T12:00:13.726146",
     "exception": false,
     "start_time": "2025-07-04T12:00:13.721370",
     "status": "completed"
    },
    "tags": []
   },
   "source": [
    "# 🧹 2. Data Preprocessing"
   ]
  },
  {
   "cell_type": "markdown",
   "id": "8582767f",
   "metadata": {
    "papermill": {
     "duration": 0.004873,
     "end_time": "2025-07-04T12:00:13.736204",
     "exception": false,
     "start_time": "2025-07-04T12:00:13.731331",
     "status": "completed"
    },
    "tags": []
   },
   "source": [
    "### 1. Pixel Normalization\n",
    "- Neural networks prefer small input values (0-1 range) for stable training\n",
    "- Prevents large pixel values (0-255) from dominating learning\n"
   ]
  },
  {
   "cell_type": "code",
   "execution_count": 3,
   "id": "7fb18600",
   "metadata": {
    "execution": {
     "iopub.execute_input": "2025-07-04T12:00:13.746954Z",
     "iopub.status.busy": "2025-07-04T12:00:13.746652Z",
     "iopub.status.idle": "2025-07-04T12:00:13.898852Z",
     "shell.execute_reply": "2025-07-04T12:00:13.898094Z"
    },
    "papermill": {
     "duration": 0.15967,
     "end_time": "2025-07-04T12:00:13.900601",
     "exception": false,
     "start_time": "2025-07-04T12:00:13.740931",
     "status": "completed"
    },
    "tags": []
   },
   "outputs": [],
   "source": [
    "# Normalise to [0,1]\n",
    "x_train = x_train.astype(\"float32\") / 255.\n",
    "x_test  = x_test.astype(\"float32\")  / 255."
   ]
  },
  {
   "cell_type": "markdown",
   "id": "7c1dd0f9",
   "metadata": {
    "papermill": {
     "duration": 0.00442,
     "end_time": "2025-07-04T12:00:13.910018",
     "exception": false,
     "start_time": "2025-07-04T12:00:13.905598",
     "status": "completed"
    },
    "tags": []
   },
   "source": [
    "### 2. Channel Dimension Addition\n",
    "- CNNs expect (batch, height, width, channels) format\n",
    "- Grayscale images need explicit color dimension\n",
    "- Transforms shape from (n, 28, 28) → (n, 28, 28, 1)\n"
   ]
  },
  {
   "cell_type": "code",
   "execution_count": 4,
   "id": "5cdd1269",
   "metadata": {
    "execution": {
     "iopub.execute_input": "2025-07-04T12:00:13.920872Z",
     "iopub.status.busy": "2025-07-04T12:00:13.920553Z",
     "iopub.status.idle": "2025-07-04T12:00:13.925287Z",
     "shell.execute_reply": "2025-07-04T12:00:13.924396Z"
    },
    "papermill": {
     "duration": 0.011983,
     "end_time": "2025-07-04T12:00:13.926837",
     "exception": false,
     "start_time": "2025-07-04T12:00:13.914854",
     "status": "completed"
    },
    "tags": []
   },
   "outputs": [],
   "source": [
    "x_train = x_train[..., np.newaxis]  # Shape: (60000, 28, 28) → (60000, 28, 28, 1)\n",
    "x_test = x_test[..., np.newaxis]"
   ]
  },
  {
   "cell_type": "markdown",
   "id": "249577fe",
   "metadata": {
    "papermill": {
     "duration": 0.004539,
     "end_time": "2025-07-04T12:00:13.936388",
     "exception": false,
     "start_time": "2025-07-04T12:00:13.931849",
     "status": "completed"
    },
    "tags": []
   },
   "source": [
    "### 3. One-Hot Encode Labels\n",
    "- Converts class labels (e.g., \"3\") → binary vectors\n",
    "- Example: 3 → [0,0,0,1,0,0,0,0,0,0]\n",
    "- Required for categorical crossentropy loss"
   ]
  },
  {
   "cell_type": "code",
   "execution_count": 5,
   "id": "cb763f05",
   "metadata": {
    "execution": {
     "iopub.execute_input": "2025-07-04T12:00:13.947509Z",
     "iopub.status.busy": "2025-07-04T12:00:13.947174Z",
     "iopub.status.idle": "2025-07-04T12:00:13.956532Z",
     "shell.execute_reply": "2025-07-04T12:00:13.955520Z"
    },
    "papermill": {
     "duration": 0.017067,
     "end_time": "2025-07-04T12:00:13.958265",
     "exception": false,
     "start_time": "2025-07-04T12:00:13.941198",
     "status": "completed"
    },
    "tags": []
   },
   "outputs": [],
   "source": [
    "# One‑hot encode labels\n",
    "y_train = to_categorical(y_train, 10)\n",
    "y_test  = to_categorical(y_test, 10)\n"
   ]
  },
  {
   "cell_type": "markdown",
   "id": "db277dca",
   "metadata": {
    "papermill": {
     "duration": 0.004512,
     "end_time": "2025-07-04T12:00:13.967814",
     "exception": false,
     "start_time": "2025-07-04T12:00:13.963302",
     "status": "completed"
    },
    "tags": []
   },
   "source": [
    "# 🧠 3. Build the CNN "
   ]
  },
  {
   "cell_type": "markdown",
   "id": "d625ccef",
   "metadata": {
    "papermill": {
     "duration": 0.004406,
     "end_time": "2025-07-04T12:00:13.977506",
     "exception": false,
     "start_time": "2025-07-04T12:00:13.973100",
     "status": "completed"
    },
    "tags": []
   },
   "source": [
    "#### 🧩 CNN Building Blocks\n",
    "\n",
    "| Layer              | Function                              | Why It Matters                       |\n",
    "|--------------------|---------------------------------------|--------------------------------------|\n",
    "| 🔍 `Conv2D`        | Scans for patterns (edges → objects)  | Core feature detection               |\n",
    "| 📉 `MaxPooling2D`  | Shrinks feature maps                  | Saves computation, keeps key features|\n",
    "| 🎲 `Dropout`       | Randomly disables neurons (p=0.2)     | Forces robust feature learning       |\n",
    "| ➡️ `Flatten`       | Converts to 1D vector                 | Prepares for final classification    |\n",
    "| 🎯 `Dense`         | Makes predictions                     | Outputs class probabilities          |\n",
    "\n"
   ]
  },
  {
   "cell_type": "code",
   "execution_count": 6,
   "id": "7c3e1f72",
   "metadata": {
    "execution": {
     "iopub.execute_input": "2025-07-04T12:00:13.988170Z",
     "iopub.status.busy": "2025-07-04T12:00:13.987848Z",
     "iopub.status.idle": "2025-07-04T12:00:14.149143Z",
     "shell.execute_reply": "2025-07-04T12:00:14.148329Z"
    },
    "papermill": {
     "duration": 0.168256,
     "end_time": "2025-07-04T12:00:14.150418",
     "exception": false,
     "start_time": "2025-07-04T12:00:13.982162",
     "status": "completed"
    },
    "tags": []
   },
   "outputs": [
    {
     "name": "stderr",
     "output_type": "stream",
     "text": [
      "/usr/local/lib/python3.11/dist-packages/keras/src/layers/convolutional/base_conv.py:107: UserWarning: Do not pass an `input_shape`/`input_dim` argument to a layer. When using Sequential models, prefer using an `Input(shape)` object as the first layer in the model instead.\n",
      "  super().__init__(activity_regularizer=activity_regularizer, **kwargs)\n",
      "2025-07-04 12:00:14.000415: E external/local_xla/xla/stream_executor/cuda/cuda_driver.cc:152] failed call to cuInit: INTERNAL: CUDA error: Failed call to cuInit: UNKNOWN ERROR (303)\n"
     ]
    },
    {
     "data": {
      "text/html": [
       "<pre style=\"white-space:pre;overflow-x:auto;line-height:normal;font-family:Menlo,'DejaVu Sans Mono',consolas,'Courier New',monospace\"><span style=\"font-weight: bold\">Model: \"sequential\"</span>\n",
       "</pre>\n"
      ],
      "text/plain": [
       "\u001b[1mModel: \"sequential\"\u001b[0m\n"
      ]
     },
     "metadata": {},
     "output_type": "display_data"
    },
    {
     "data": {
      "text/html": [
       "<pre style=\"white-space:pre;overflow-x:auto;line-height:normal;font-family:Menlo,'DejaVu Sans Mono',consolas,'Courier New',monospace\">┏━━━━━━━━━━━━━━━━━━━━━━━━━━━━━━━━━━━━━━┳━━━━━━━━━━━━━━━━━━━━━━━━━━━━━┳━━━━━━━━━━━━━━━━━┓\n",
       "┃<span style=\"font-weight: bold\"> Layer (type)                         </span>┃<span style=\"font-weight: bold\"> Output Shape                </span>┃<span style=\"font-weight: bold\">         Param # </span>┃\n",
       "┡━━━━━━━━━━━━━━━━━━━━━━━━━━━━━━━━━━━━━━╇━━━━━━━━━━━━━━━━━━━━━━━━━━━━━╇━━━━━━━━━━━━━━━━━┩\n",
       "│ conv2d (<span style=\"color: #0087ff; text-decoration-color: #0087ff\">Conv2D</span>)                      │ (<span style=\"color: #00d7ff; text-decoration-color: #00d7ff\">None</span>, <span style=\"color: #00af00; text-decoration-color: #00af00\">26</span>, <span style=\"color: #00af00; text-decoration-color: #00af00\">26</span>, <span style=\"color: #00af00; text-decoration-color: #00af00\">32</span>)          │             <span style=\"color: #00af00; text-decoration-color: #00af00\">320</span> │\n",
       "├──────────────────────────────────────┼─────────────────────────────┼─────────────────┤\n",
       "│ max_pooling2d (<span style=\"color: #0087ff; text-decoration-color: #0087ff\">MaxPooling2D</span>)         │ (<span style=\"color: #00d7ff; text-decoration-color: #00d7ff\">None</span>, <span style=\"color: #00af00; text-decoration-color: #00af00\">13</span>, <span style=\"color: #00af00; text-decoration-color: #00af00\">13</span>, <span style=\"color: #00af00; text-decoration-color: #00af00\">32</span>)          │               <span style=\"color: #00af00; text-decoration-color: #00af00\">0</span> │\n",
       "├──────────────────────────────────────┼─────────────────────────────┼─────────────────┤\n",
       "│ conv2d_1 (<span style=\"color: #0087ff; text-decoration-color: #0087ff\">Conv2D</span>)                    │ (<span style=\"color: #00d7ff; text-decoration-color: #00d7ff\">None</span>, <span style=\"color: #00af00; text-decoration-color: #00af00\">11</span>, <span style=\"color: #00af00; text-decoration-color: #00af00\">11</span>, <span style=\"color: #00af00; text-decoration-color: #00af00\">64</span>)          │          <span style=\"color: #00af00; text-decoration-color: #00af00\">18,496</span> │\n",
       "├──────────────────────────────────────┼─────────────────────────────┼─────────────────┤\n",
       "│ max_pooling2d_1 (<span style=\"color: #0087ff; text-decoration-color: #0087ff\">MaxPooling2D</span>)       │ (<span style=\"color: #00d7ff; text-decoration-color: #00d7ff\">None</span>, <span style=\"color: #00af00; text-decoration-color: #00af00\">5</span>, <span style=\"color: #00af00; text-decoration-color: #00af00\">5</span>, <span style=\"color: #00af00; text-decoration-color: #00af00\">64</span>)            │               <span style=\"color: #00af00; text-decoration-color: #00af00\">0</span> │\n",
       "├──────────────────────────────────────┼─────────────────────────────┼─────────────────┤\n",
       "│ flatten (<span style=\"color: #0087ff; text-decoration-color: #0087ff\">Flatten</span>)                    │ (<span style=\"color: #00d7ff; text-decoration-color: #00d7ff\">None</span>, <span style=\"color: #00af00; text-decoration-color: #00af00\">1600</span>)                │               <span style=\"color: #00af00; text-decoration-color: #00af00\">0</span> │\n",
       "├──────────────────────────────────────┼─────────────────────────────┼─────────────────┤\n",
       "│ dense (<span style=\"color: #0087ff; text-decoration-color: #0087ff\">Dense</span>)                        │ (<span style=\"color: #00d7ff; text-decoration-color: #00d7ff\">None</span>, <span style=\"color: #00af00; text-decoration-color: #00af00\">128</span>)                 │         <span style=\"color: #00af00; text-decoration-color: #00af00\">204,928</span> │\n",
       "├──────────────────────────────────────┼─────────────────────────────┼─────────────────┤\n",
       "│ dropout (<span style=\"color: #0087ff; text-decoration-color: #0087ff\">Dropout</span>)                    │ (<span style=\"color: #00d7ff; text-decoration-color: #00d7ff\">None</span>, <span style=\"color: #00af00; text-decoration-color: #00af00\">128</span>)                 │               <span style=\"color: #00af00; text-decoration-color: #00af00\">0</span> │\n",
       "├──────────────────────────────────────┼─────────────────────────────┼─────────────────┤\n",
       "│ dense_1 (<span style=\"color: #0087ff; text-decoration-color: #0087ff\">Dense</span>)                      │ (<span style=\"color: #00d7ff; text-decoration-color: #00d7ff\">None</span>, <span style=\"color: #00af00; text-decoration-color: #00af00\">10</span>)                  │           <span style=\"color: #00af00; text-decoration-color: #00af00\">1,290</span> │\n",
       "└──────────────────────────────────────┴─────────────────────────────┴─────────────────┘\n",
       "</pre>\n"
      ],
      "text/plain": [
       "┏━━━━━━━━━━━━━━━━━━━━━━━━━━━━━━━━━━━━━━┳━━━━━━━━━━━━━━━━━━━━━━━━━━━━━┳━━━━━━━━━━━━━━━━━┓\n",
       "┃\u001b[1m \u001b[0m\u001b[1mLayer (type)                        \u001b[0m\u001b[1m \u001b[0m┃\u001b[1m \u001b[0m\u001b[1mOutput Shape               \u001b[0m\u001b[1m \u001b[0m┃\u001b[1m \u001b[0m\u001b[1m        Param #\u001b[0m\u001b[1m \u001b[0m┃\n",
       "┡━━━━━━━━━━━━━━━━━━━━━━━━━━━━━━━━━━━━━━╇━━━━━━━━━━━━━━━━━━━━━━━━━━━━━╇━━━━━━━━━━━━━━━━━┩\n",
       "│ conv2d (\u001b[38;5;33mConv2D\u001b[0m)                      │ (\u001b[38;5;45mNone\u001b[0m, \u001b[38;5;34m26\u001b[0m, \u001b[38;5;34m26\u001b[0m, \u001b[38;5;34m32\u001b[0m)          │             \u001b[38;5;34m320\u001b[0m │\n",
       "├──────────────────────────────────────┼─────────────────────────────┼─────────────────┤\n",
       "│ max_pooling2d (\u001b[38;5;33mMaxPooling2D\u001b[0m)         │ (\u001b[38;5;45mNone\u001b[0m, \u001b[38;5;34m13\u001b[0m, \u001b[38;5;34m13\u001b[0m, \u001b[38;5;34m32\u001b[0m)          │               \u001b[38;5;34m0\u001b[0m │\n",
       "├──────────────────────────────────────┼─────────────────────────────┼─────────────────┤\n",
       "│ conv2d_1 (\u001b[38;5;33mConv2D\u001b[0m)                    │ (\u001b[38;5;45mNone\u001b[0m, \u001b[38;5;34m11\u001b[0m, \u001b[38;5;34m11\u001b[0m, \u001b[38;5;34m64\u001b[0m)          │          \u001b[38;5;34m18,496\u001b[0m │\n",
       "├──────────────────────────────────────┼─────────────────────────────┼─────────────────┤\n",
       "│ max_pooling2d_1 (\u001b[38;5;33mMaxPooling2D\u001b[0m)       │ (\u001b[38;5;45mNone\u001b[0m, \u001b[38;5;34m5\u001b[0m, \u001b[38;5;34m5\u001b[0m, \u001b[38;5;34m64\u001b[0m)            │               \u001b[38;5;34m0\u001b[0m │\n",
       "├──────────────────────────────────────┼─────────────────────────────┼─────────────────┤\n",
       "│ flatten (\u001b[38;5;33mFlatten\u001b[0m)                    │ (\u001b[38;5;45mNone\u001b[0m, \u001b[38;5;34m1600\u001b[0m)                │               \u001b[38;5;34m0\u001b[0m │\n",
       "├──────────────────────────────────────┼─────────────────────────────┼─────────────────┤\n",
       "│ dense (\u001b[38;5;33mDense\u001b[0m)                        │ (\u001b[38;5;45mNone\u001b[0m, \u001b[38;5;34m128\u001b[0m)                 │         \u001b[38;5;34m204,928\u001b[0m │\n",
       "├──────────────────────────────────────┼─────────────────────────────┼─────────────────┤\n",
       "│ dropout (\u001b[38;5;33mDropout\u001b[0m)                    │ (\u001b[38;5;45mNone\u001b[0m, \u001b[38;5;34m128\u001b[0m)                 │               \u001b[38;5;34m0\u001b[0m │\n",
       "├──────────────────────────────────────┼─────────────────────────────┼─────────────────┤\n",
       "│ dense_1 (\u001b[38;5;33mDense\u001b[0m)                      │ (\u001b[38;5;45mNone\u001b[0m, \u001b[38;5;34m10\u001b[0m)                  │           \u001b[38;5;34m1,290\u001b[0m │\n",
       "└──────────────────────────────────────┴─────────────────────────────┴─────────────────┘\n"
      ]
     },
     "metadata": {},
     "output_type": "display_data"
    },
    {
     "data": {
      "text/html": [
       "<pre style=\"white-space:pre;overflow-x:auto;line-height:normal;font-family:Menlo,'DejaVu Sans Mono',consolas,'Courier New',monospace\"><span style=\"font-weight: bold\"> Total params: </span><span style=\"color: #00af00; text-decoration-color: #00af00\">225,034</span> (879.04 KB)\n",
       "</pre>\n"
      ],
      "text/plain": [
       "\u001b[1m Total params: \u001b[0m\u001b[38;5;34m225,034\u001b[0m (879.04 KB)\n"
      ]
     },
     "metadata": {},
     "output_type": "display_data"
    },
    {
     "data": {
      "text/html": [
       "<pre style=\"white-space:pre;overflow-x:auto;line-height:normal;font-family:Menlo,'DejaVu Sans Mono',consolas,'Courier New',monospace\"><span style=\"font-weight: bold\"> Trainable params: </span><span style=\"color: #00af00; text-decoration-color: #00af00\">225,034</span> (879.04 KB)\n",
       "</pre>\n"
      ],
      "text/plain": [
       "\u001b[1m Trainable params: \u001b[0m\u001b[38;5;34m225,034\u001b[0m (879.04 KB)\n"
      ]
     },
     "metadata": {},
     "output_type": "display_data"
    },
    {
     "data": {
      "text/html": [
       "<pre style=\"white-space:pre;overflow-x:auto;line-height:normal;font-family:Menlo,'DejaVu Sans Mono',consolas,'Courier New',monospace\"><span style=\"font-weight: bold\"> Non-trainable params: </span><span style=\"color: #00af00; text-decoration-color: #00af00\">0</span> (0.00 B)\n",
       "</pre>\n"
      ],
      "text/plain": [
       "\u001b[1m Non-trainable params: \u001b[0m\u001b[38;5;34m0\u001b[0m (0.00 B)\n"
      ]
     },
     "metadata": {},
     "output_type": "display_data"
    }
   ],
   "source": [
    "model = Sequential([\n",
    "    Conv2D(32, (3,3), activation='relu', input_shape=(28,28,1)), \n",
    "    MaxPooling2D(2,2), # maxpooling is used to reduce the size of the image from 28x28 to 14x14\n",
    "\n",
    "    Conv2D(64, (3,3), activation='relu'),\n",
    "    MaxPooling2D(2,2), # maxpooling is used to reduce the size of the image from 14x14 to 7x7\n",
    "\n",
    "    Flatten(), # flattens the image to a 1D array\n",
    "    Dense(128, activation='relu'), # dense layer with 128 neurons\n",
    "    Dropout(0.30), # dropout is used to prevent overfitting\n",
    "    Dense(10, activation='softmax') # output layer with 10 neurons and softmax activation function\n",
    "])\n",
    "\n",
    "model.summary() # print a summary of the model\n"
   ]
  },
  {
   "cell_type": "markdown",
   "id": "24e874d4",
   "metadata": {
    "papermill": {
     "duration": 0.005294,
     "end_time": "2025-07-04T12:00:14.161646",
     "exception": false,
     "start_time": "2025-07-04T12:00:14.156352",
     "status": "completed"
    },
    "tags": []
   },
   "source": [
    "# 🚀 4. Compile & Train"
   ]
  },
  {
   "cell_type": "code",
   "execution_count": 7,
   "id": "8e9d8304",
   "metadata": {
    "execution": {
     "iopub.execute_input": "2025-07-04T12:00:14.174234Z",
     "iopub.status.busy": "2025-07-04T12:00:14.173882Z",
     "iopub.status.idle": "2025-07-04T12:01:48.704682Z",
     "shell.execute_reply": "2025-07-04T12:01:48.703818Z"
    },
    "papermill": {
     "duration": 94.539153,
     "end_time": "2025-07-04T12:01:48.706416",
     "exception": false,
     "start_time": "2025-07-04T12:00:14.167263",
     "status": "completed"
    },
    "tags": []
   },
   "outputs": [
    {
     "name": "stdout",
     "output_type": "stream",
     "text": [
      "Epoch 1/5\n",
      "375/375 - 21s - 55ms/step - accuracy: 0.7706 - loss: 0.6287 - val_accuracy: 0.8487 - val_loss: 0.4149\n",
      "Epoch 2/5\n",
      "375/375 - 18s - 47ms/step - accuracy: 0.8569 - loss: 0.4012 - val_accuracy: 0.8682 - val_loss: 0.3710\n",
      "Epoch 3/5\n",
      "375/375 - 18s - 48ms/step - accuracy: 0.8735 - loss: 0.3468 - val_accuracy: 0.8829 - val_loss: 0.3174\n",
      "Epoch 4/5\n",
      "375/375 - 20s - 54ms/step - accuracy: 0.8834 - loss: 0.3142 - val_accuracy: 0.8857 - val_loss: 0.3043\n",
      "Epoch 5/5\n",
      "375/375 - 18s - 47ms/step - accuracy: 0.8934 - loss: 0.2904 - val_accuracy: 0.9003 - val_loss: 0.2765\n",
      "Restoring model weights from the end of the best epoch: 5.\n"
     ]
    }
   ],
   "source": [
    "# Compile the model\n",
    "# - optimizer: 'adam' helps the model learn efficiently\n",
    "# - loss: 'categorical_crossentropy' is good for multi-class classification\n",
    "# - metrics: ['accuracy'] will show how often predictions are correct\n",
    "model.compile(\n",
    "    optimizer='adam',\n",
    "    loss='categorical_crossentropy',\n",
    "    metrics=['accuracy']\n",
    ")\n",
    "\n",
    "# Set up EarlyStopping to stop training if the model doesn't improve for 3 epochs\n",
    "# - patience=3: Wait for 3 epochs with no improvement before stopping\n",
    "# - restore_best_weights=True: Go back to the best model weights\n",
    "# - verbose=1: Print messages when stopping\n",
    "early_stop = EarlyStopping(\n",
    "    patience=3,\n",
    "    restore_best_weights=True,\n",
    "    verbose=1\n",
    ")\n",
    "\n",
    "# Train the model and save the training history\n",
    "# - x_train, y_train: Training data and labels\n",
    "# - validation_split=0.2: Use 20% of training data for validation\n",
    "# - epochs=5: Train for up to 5 times through the data\n",
    "# - batch_size=128: Use 128 samples at a time for training\n",
    "# - callbacks=[early_stop]: Use early stopping to avoid overfitting\n",
    "# - verbose=2: Print training progress\n",
    "history = model.fit(\n",
    "    x_train, y_train,\n",
    "    validation_split=0.2,\n",
    "    epochs=5,\n",
    "    batch_size=128,\n",
    "    callbacks=[early_stop],\n",
    "    verbose=2\n",
    ")\n"
   ]
  },
  {
   "cell_type": "markdown",
   "id": "ba97b7db",
   "metadata": {
    "papermill": {
     "duration": 0.005755,
     "end_time": "2025-07-04T12:01:48.718773",
     "exception": false,
     "start_time": "2025-07-04T12:01:48.713018",
     "status": "completed"
    },
    "tags": []
   },
   "source": [
    "# 📊 5. Evaluate & Plot Curves"
   ]
  },
  {
   "cell_type": "code",
   "execution_count": 8,
   "id": "dd4bd629",
   "metadata": {
    "execution": {
     "iopub.execute_input": "2025-07-04T12:01:48.732252Z",
     "iopub.status.busy": "2025-07-04T12:01:48.731908Z",
     "iopub.status.idle": "2025-07-04T12:01:50.974431Z",
     "shell.execute_reply": "2025-07-04T12:01:50.973357Z"
    },
    "papermill": {
     "duration": 2.250912,
     "end_time": "2025-07-04T12:01:50.975896",
     "exception": false,
     "start_time": "2025-07-04T12:01:48.724984",
     "status": "completed"
    },
    "tags": []
   },
   "outputs": [
    {
     "name": "stdout",
     "output_type": "stream",
     "text": [
      "\u001b[1m313/313\u001b[0m \u001b[32m━━━━━━━━━━━━━━━━━━━━\u001b[0m\u001b[37m\u001b[0m \u001b[1m2s\u001b[0m 5ms/step - accuracy: 0.8956 - loss: 0.2960\n",
      "✅ Test Accuracy: 0.8963\n"
     ]
    },
    {
     "data": {
      "image/png": "[encoded data removed]",
      "text/plain": [
       "<Figure size 640x480 with 1 Axes>"
      ]
     },
     "metadata": {},
     "output_type": "display_data"
    },
    {
     "data": {
      "image/png": "[encoded data removed]",
      "text/plain": [
       "<Figure size 640x480 with 1 Axes>"
      ]
     },
     "metadata": {},
     "output_type": "display_data"
    }
   ],
   "source": [
    "# Test-set evaluation\n",
    "test_loss, test_acc = model.evaluate(x_test, y_test)\n",
    "print(f\"✅ Test Accuracy: {test_acc:.4f}\")\n",
    "\n",
    "# Accuracy curve\n",
    "plt.figure()\n",
    "plt.plot(history.history['accuracy'], label='Train')\n",
    "plt.plot(history.history['val_accuracy'], label='Val')\n",
    "plt.title('Accuracy over Epochs'); \n",
    "plt.xlabel('Epoch'); \n",
    "plt.ylabel('Accuracy')\n",
    "plt.legend(); \n",
    "plt.show()\n",
    "\n",
    "# Loss curve\n",
    "plt.figure()\n",
    "plt.plot(history.history['loss'], label='Train')\n",
    "plt.plot(history.history['val_loss'], label='Val')\n",
    "plt.title('Loss over Epochs'); \n",
    "plt.xlabel('Epoch'); \n",
    "plt.ylabel('Loss')\n",
    "plt.legend(); \n",
    "plt.show()\n"
   ]
  },
  {
   "cell_type": "markdown",
   "id": "95a96adb",
   "metadata": {
    "papermill": {
     "duration": 0.008689,
     "end_time": "2025-07-04T12:01:50.994151",
     "exception": false,
     "start_time": "2025-07-04T12:01:50.985462",
     "status": "completed"
    },
    "tags": []
   },
   "source": [
    "# 👀 6. Visualise Random Predictions"
   ]
  },
  {
   "cell_type": "code",
   "execution_count": 9,
   "id": "d0e640ac",
   "metadata": {
    "execution": {
     "iopub.execute_input": "2025-07-04T12:01:51.013847Z",
     "iopub.status.busy": "2025-07-04T12:01:51.012835Z",
     "iopub.status.idle": "2025-07-04T12:01:52.781131Z",
     "shell.execute_reply": "2025-07-04T12:01:52.780248Z"
    },
    "papermill": {
     "duration": 1.779552,
     "end_time": "2025-07-04T12:01:52.782539",
     "exception": false,
     "start_time": "2025-07-04T12:01:51.002987",
     "status": "completed"
    },
    "tags": []
   },
   "outputs": [
    {
     "name": "stdout",
     "output_type": "stream",
     "text": [
      "\u001b[1m1/1\u001b[0m \u001b[32m━━━━━━━━━━━━━━━━━━━━\u001b[0m\u001b[37m\u001b[0m \u001b[1m0s\u001b[0m 108ms/step\n",
      "\u001b[1m1/1\u001b[0m \u001b[32m━━━━━━━━━━━━━━━━━━━━\u001b[0m\u001b[37m\u001b[0m \u001b[1m0s\u001b[0m 38ms/step\n",
      "\u001b[1m1/1\u001b[0m \u001b[32m━━━━━━━━━━━━━━━━━━━━\u001b[0m\u001b[37m\u001b[0m \u001b[1m0s\u001b[0m 37ms/step\n",
      "\u001b[1m1/1\u001b[0m \u001b[32m━━━━━━━━━━━━━━━━━━━━\u001b[0m\u001b[37m\u001b[0m \u001b[1m0s\u001b[0m 38ms/step\n",
      "\u001b[1m1/1\u001b[0m \u001b[32m━━━━━━━━━━━━━━━━━━━━\u001b[0m\u001b[37m\u001b[0m \u001b[1m0s\u001b[0m 37ms/step\n",
      "\u001b[1m1/1\u001b[0m \u001b[32m━━━━━━━━━━━━━━━━━━━━\u001b[0m\u001b[37m\u001b[0m \u001b[1m0s\u001b[0m 37ms/step\n",
      "\u001b[1m1/1\u001b[0m \u001b[32m━━━━━━━━━━━━━━━━━━━━\u001b[0m\u001b[37m\u001b[0m \u001b[1m0s\u001b[0m 37ms/step\n",
      "\u001b[1m1/1\u001b[0m \u001b[32m━━━━━━━━━━━━━━━━━━━━\u001b[0m\u001b[37m\u001b[0m \u001b[1m0s\u001b[0m 38ms/step\n",
      "\u001b[1m1/1\u001b[0m \u001b[32m━━━━━━━━━━━━━━━━━━━━\u001b[0m\u001b[37m\u001b[0m \u001b[1m0s\u001b[0m 37ms/step\n"
     ]
    },
    {
     "data": {
      "image/png": "[encoded data removed]",
      "text/plain": [
       "<Figure size 700x700 with 9 Axes>"
      ]
     },
     "metadata": {},
     "output_type": "display_data"
    }
   ],
   "source": [
    "# List of class names for the Fashion MNIST dataset\n",
    "class_names = [\n",
    "    'T-shirt', 'Trouser', 'Pullover', 'Dress', 'Coat',\n",
    "    'Sandal', 'Shirt', 'Sneaker', 'Bag', 'Boot'\n",
    "]\n",
    "\n",
    "# Randomly select 9 image indices from the test set\n",
    "# len(x_test) gives the total number of test images\n",
    "# np.random.choice picks 9 unique random indices\n",
    "random_indices = np.random.choice(len(x_test), 9, replace=False)\n",
    "\n",
    "# Create a new figure for plotting images (size 7x7 inches)\n",
    "plt.figure(figsize=(7, 7))\n",
    "\n",
    "# Loop through each selected index and plot the image\n",
    "for i, idx in enumerate(random_indices):\n",
    "    # Get the image from the test set\n",
    "    img = x_test[idx]\n",
    "    # Predict the class for this image using the trained model\n",
    "    # img[np.newaxis, ...] adds a batch dimension to the image (1, 28, 28, 1)\n",
    "    prediction = model.predict(img[np.newaxis, ...])\n",
    "    predicted_class = np.argmax(prediction) # get the index of the predicted class\n",
    "    # Get the true class label for this image\n",
    "    true_class = np.argmax(y_test[idx])\n",
    "\n",
    "    # Create a subplot (3 rows, 3 columns, position i+1)\n",
    "    plt.subplot(3, 3, i + 1)\n",
    "    # Show the image in grayscale\n",
    "    # img.squeeze() removes the batch dimension from the image\n",
    "    plt.imshow(img.squeeze(), cmap='gray')\n",
    "    # Set the title as Predicted and True class names\n",
    "    plt.title(f\"P: {class_names[predicted_class]}\\nT: {class_names[true_class]}\")\n",
    "    # Hide the axis ticks\n",
    "    plt.axis('off')\n",
    "\n",
    "# Adjust layout so titles and images don't overlap\n",
    "plt.tight_layout()\n",
    "# Display the plot with all 9 images\n",
    "plt.show()\n"
   ]
  },
  {
   "cell_type": "markdown",
   "id": "77c9fc65",
   "metadata": {
    "papermill": {
     "duration": 0.010506,
     "end_time": "2025-07-04T12:01:52.803925",
     "exception": false,
     "start_time": "2025-07-04T12:01:52.793419",
     "status": "completed"
    },
    "tags": []
   },
   "source": [
    "# 💾 Save Model"
   ]
  },
  {
   "cell_type": "code",
   "execution_count": 10,
   "id": "cd20b351",
   "metadata": {
    "execution": {
     "iopub.execute_input": "2025-07-04T12:01:52.826847Z",
     "iopub.status.busy": "2025-07-04T12:01:52.826171Z",
     "iopub.status.idle": "2025-07-04T12:01:52.869463Z",
     "shell.execute_reply": "2025-07-04T12:01:52.868478Z"
    },
    "papermill": {
     "duration": 0.056147,
     "end_time": "2025-07-04T12:01:52.870802",
     "exception": false,
     "start_time": "2025-07-04T12:01:52.814655",
     "status": "completed"
    },
    "tags": []
   },
   "outputs": [
    {
     "name": "stdout",
     "output_type": "stream",
     "text": [
      "Model saved ⬆️ successfully\n"
     ]
    }
   ],
   "source": [
    "# Save the trained model to a file named 'fashion_mnist_cnn.h5'\n",
    "# This allows you to reuse the model later without retraining\n",
    "model.save('fashion_mnist_cnn.h5')\n",
    "\n",
    "# Print a message to confirm the model was saved\n",
    "print(\"Model saved ⬆️ successfully\")\n"
   ]
  },
  {
   "cell_type": "markdown",
   "id": "8c1203cc",
   "metadata": {
    "papermill": {
     "duration": 0.010252,
     "end_time": "2025-07-04T12:01:52.891823",
     "exception": false,
     "start_time": "2025-07-04T12:01:52.881571",
     "status": "completed"
    },
    "tags": []
   },
   "source": [
    "---"
   ]
  },
  {
   "cell_type": "markdown",
   "id": "f2201079",
   "metadata": {
    "papermill": {
     "duration": 0.010696,
     "end_time": "2025-07-04T12:01:52.913132",
     "exception": false,
     "start_time": "2025-07-04T12:01:52.902436",
     "status": "completed"
    },
    "tags": []
   },
   "source": [
    "# **Conclusion**  \n",
    "\n",
    "Thank you for taking the time to explore this notebook! I hope this guide has been insightful in helping you understand **Convolutional Neural Networks (CNNs)** better. If you found this notebook useful, please consider:  \n",
    "\n",
    "- **⭐ Upvoting** – This motivates me to create more high-quality content!  \n",
    "- **💬 Leaving a comment** – Feedback, questions, or suggestions are always welcome!  \n",
    "- **📌 Forking/Running the notebook** – Experiment with the code and make it your own!  \n",
    "\n",
    "Let’s keep learning and growing together in the Kaggle community. Happy coding! 🎉    "
   ]
  }
 ],
 "metadata": {
  "kernelspec": {
   "display_name": "dl_env",
   "language": "python",
   "name": "python3"
  },
  "language_info": {
   "codemirror_mode": {
    "name": "ipython",
    "version": 3
   },
   "file_extension": ".py",
   "mimetype": "text/x-python",
   "name": "python",
   "nbconvert_exporter": "python",
   "pygments_lexer": "ipython3",
   "version": "3.11.11"
  },
  "papermill": {
   "default_parameters": {},
   "duration": 129.267489,
   "end_time": "2025-07-04T12:01:56.335986",
   "environment_variables": {},
   "exception": null,
   "input_path": "__notebook__.ipynb",
   "output_path": "__notebook__.ipynb",
   "parameters": {},
   "start_time": "2025-07-04T11:59:47.068497",
   "version": "2.6.0"
  }
 },
 "nbformat": 4,
 "nbformat_minor": 5
}
